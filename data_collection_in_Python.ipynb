{
 "cells": [
  {
   "cell_type": "markdown",
   "metadata": {},
   "source": [
    "How to read data from CSV, Excel files, and SQL databases.\n",
    "\n",
    "An introduction to web scraping using BeautifulSoup and Scrapy.\n",
    "\n",
    "How to work with APIs and parse JSON data for dynamic information."
   ]
  },
  {
   "cell_type": "code",
   "execution_count": 9,
   "metadata": {},
   "outputs": [
    {
     "name": "stdout",
     "output_type": "stream",
     "text": [
      "   Country   Age   Salary Purchased\n",
      "0   France  44.0  72000.0        No\n",
      "1    Spain  27.0  48000.0       Yes\n",
      "2  Germany  30.0  54000.0        No\n",
      "3    Spain  38.0  61000.0        No\n",
      "4  Germany  40.0      NaN       Yes\n"
     ]
    }
   ],
   "source": [
    "import pandas as pd \n",
    "#reead the csv file \n",
    "\n",
    "file_path = '/Users/mac/Data.csv'\n",
    "df = pd.read_csv(file_path)\n",
    "print(df.head())"
   ]
  },
  {
   "cell_type": "code",
   "execution_count": 13,
   "metadata": {},
   "outputs": [
    {
     "name": "stdout",
     "output_type": "stream",
     "text": [
      "  District        Health Facility            Name\n",
      "0   Attock      171006-BHU Akhori      BHU Akhori\n",
      "1   Attock     171007-BHU Bhangai     BHU Bhangai\n",
      "2   Attock  171008-BHU Boulianwal  BHU Boulianwal\n",
      "3   Attock    171009-BHU Dakhnair    BHU Dakhnair\n",
      "4   Attock  171010-RHC Ghurgushti  RHC Ghurgushti\n"
     ]
    }
   ],
   "source": [
    "#read the excel file\n",
    "\n",
    "df = pd.read_excel('/Users/mac/Downloads/epidemiology/attock_test.xlsx')\n",
    "print(df.head())"
   ]
  },
  {
   "cell_type": "code",
   "execution_count": 15,
   "metadata": {},
   "outputs": [
    {
     "name": "stdout",
     "output_type": "stream",
     "text": [
      "   id      name  age  score\n",
      "0   1      Jhon   25     80\n",
      "1   2       Bob   28     75\n",
      "2   3   Gabrial   30     86\n",
      "3   4  peterson   29     95\n",
      "4   5      Bigi   35     88\n"
     ]
    }
   ],
   "source": [
    "#Connecting to SQL database\n",
    "\n",
    "#sqlite3 and SQLALchemy \n",
    "\n",
    "import sqlite3\n",
    "\n",
    "conn = sqlite3.connect('/Users/mac/Downloads/database.db')\n",
    "\n",
    "query = \"SELECT * FROM employee\"\n",
    "df = pd.read_sql_query(query,conn)\n",
    "print(df)"
   ]
  },
  {
   "cell_type": "code",
   "execution_count": 30,
   "metadata": {},
   "outputs": [
    {
     "name": "stdout",
     "output_type": "stream",
     "text": [
      "[<h2 style=\"color: #fff4a3\"><b>Tutorials</b></h2>, <h2 style=\"color: #fff4a3\"><b>Exercises</b></h2>, <h2 style=\"color: #fff4a3\"><b>Certificates</b></h2>, <h2 style=\"color: #fff4a3\"><b>All Our Services</b></h2>, <h2 style=\"font-size:45px;font-weight:700\">PHP</h2>, <h2 style=\"font-size:45px;font-weight:700\">jQuery</h2>, <h2 style=\"font-size:45px;font-weight:700\">Java</h2>, <h2 style=\"font-size:45px;font-weight:700\">C++</h2>, <h2 style=\"font-size:45px;font-weight:700\">W3.CSS</h2>, <h2 style=\"font-size:45px;font-weight:700\">Bootstrap</h2>, <h2 style=\"font-size:30px;font-weight:500\">C</h2>, <h2 style=\"font-size:30px;font-weight:500\">C#</h2>, <h2 style=\"font-size:30px;font-weight:500\">R</h2>, <h2 style=\"font-size:30px;font-weight:500\">Kotlin</h2>, <h2 style=\"font-size:30px;font-weight:500\">Node.js</h2>, <h2 style=\"font-size:30px;font-weight:500\">React</h2>, <h2 style=\"font-size:30px;font-weight:500\">JSON</h2>, <h2 style=\"font-size:30px;font-weight:500\">Vue</h2>, <h2 style=\"font-size:30px;font-weight:500\">MySQL</h2>, <h2 style=\"font-size:30px;font-weight:500\">XML</h2>, <h2 style=\"font-size:30px;font-weight:500\">Sass</h2>, <h2 style=\"font-size:30px;font-weight:500\">Icons</h2>, <h2 style=\"font-size:30px;font-weight:500\">RWD</h2>, <h2 style=\"font-size:30px;font-weight:500\">Graphics</h2>, <h2 style=\"font-size:30px;font-weight:500\">SVG</h2>, <h2 style=\"font-size:30px;font-weight:500\">Canvas</h2>, <h2 style=\"font-size:30px;font-weight:500\">Raspberry Pi</h2>, <h2 style=\"font-size:30px;font-weight:500\">Cyber<span class=\"ws-hide-special\"> Security</span></h2>, <h2 style=\"font-size:30px;font-weight:500\">Colors</h2>, <h2 style=\"font-size:30px;font-weight:500\">Git</h2>, <h2 style=\"font-size:30px;font-weight:500\">Matplotlib</h2>, <h2 style=\"font-size:30px;font-weight:500\">NumPy</h2>, <h2 style=\"font-size:30px;font-weight:500\">Pandas</h2>, <h2 style=\"font-size:30px;font-weight:500\">SciPy</h2>, <h2 style=\"font-size:30px;font-weight:500\">ASP</h2>, <h2 style=\"font-size:30px;font-weight:500\">AngularJS</h2>, <h2 style=\"font-size:30px;font-weight:500\">AppML</h2>, <h2 style=\"font-size:30px;font-weight:500\">Go</h2>, <h2 style=\"font-size:30px;font-weight:500\">TypeScript</h2>, <h2 style=\"font-size:30px;font-weight:500\">Django</h2>, <h2 style=\"font-size:30px;font-weight:500\">MongoDB</h2>, <h2 style=\"font-size:30px;font-weight:500\">Statistics</h2>, <h2 style=\"font-size:30px;font-weight:500;white-space:nowrap;\">Data Science</h2>, <h2 style=\"font-size:30px;font-weight:500;white-space:nowrap\">Typing Speed</h2>, <h2 style=\"font-size:30px;font-weight:500\">HowTo</h2>, <h2 style=\"font-size:30px;font-weight:500\">Code Game</h2>, <h2 style=\"font-size:30px;font-weight:500\">Spaces</h2>, <h2 style=\"font-size:30px;font-weight:500\">PostgreSQL</h2>, <h2 style=\"font-size:30px;font-weight:500\">Excel</h2>, <h2 style=\"font-size:30px;font-weight:500\">DSA - D<span style=\"font-size:80%\">ata </span>S<span style=\"font-size:80%\">tructures and </span>A<span style=\"font-size:80%\">lgorithms</span></h2>, <h2 style=\"font-size:30px;font-weight:500\">Machine Learning</h2>, <h2 style=\"font-size:30px;font-weight:500\">Artificial Intelligence</h2>, <h2 style=\"font-family: 'Freckle Face', cursive;\">Help the Lynx collect pine cones!</h2>, <h2 style=\"font-size:65px;font-weight:700\">Exercises and Quizzes</h2>, <h2>Kickstart your career</h2>, <h2 class=\"textsmaller\" style=\"font-size:60px;font-weight:700\">How To Section</h2>, <h2>Contact Sales</h2>, <h2>Report Error</h2>]\n"
     ]
    }
   ],
   "source": [
    "#web Scrapping\n",
    "#BeautifulSoup\n",
    "\n",
    "import requests\n",
    "from bs4 import BeautifulSoup\n",
    "\n",
    "#fetch the webpagse\n",
    "url = \"https://www.w3schools.com/\"\n",
    "response = requests.get(url)\n",
    "\n",
    "#parse the HTML\n",
    "soup = BeautifulSoup(response.text, 'html.parser')\n",
    "\n",
    "#extract data \n",
    "\n",
    "titles = soup.find_all('h2')\n",
    "print(titles)"
   ]
  },
  {
   "cell_type": "code",
   "execution_count": 44,
   "metadata": {},
   "outputs": [
    {
     "name": "stdout",
     "output_type": "stream",
     "text": [
      "{'userId': 1, 'id': 5, 'title': 'laboriosam mollitia et enim quasi adipisci quia provident illum', 'completed': False}\n"
     ]
    }
   ],
   "source": [
    "#API and JSON data parsing\n",
    "\n",
    "#fetching json data from an api\n",
    "\n",
    "import requests\n",
    "\n",
    "#api requests \n",
    "url = \"https://jsonplaceholder.typicode.com/todos/5\"\n",
    "response = requests.get(url)\n",
    "\n",
    "#parse JSON\n",
    "data = response.json()\n",
    "print(data)"
   ]
  },
  {
   "cell_type": "code",
   "execution_count": 49,
   "metadata": {},
   "outputs": [
    {
     "name": "stdout",
     "output_type": "stream",
     "text": [
      "   userId  id                                              title  completed\n",
      "0       1   5  laboriosam mollitia et enim quasi adipisci qui...      False\n"
     ]
    }
   ],
   "source": [
    "#convert JSON to dataframce\n",
    "\n",
    "import pandas as pd \n",
    "df = pd.DataFrame([data])\n",
    "print(df.head())"
   ]
  },
  {
   "cell_type": "code",
   "execution_count": null,
   "metadata": {},
   "outputs": [],
   "source": [
    "#files, databases, the web and apis\n",
    "\n"
   ]
  }
 ],
 "metadata": {
  "kernelspec": {
   "display_name": "myenv",
   "language": "python",
   "name": "python3"
  },
  "language_info": {
   "codemirror_mode": {
    "name": "ipython",
    "version": 3
   },
   "file_extension": ".py",
   "mimetype": "text/x-python",
   "name": "python",
   "nbconvert_exporter": "python",
   "pygments_lexer": "ipython3",
   "version": "3.11.7"
  }
 },
 "nbformat": 4,
 "nbformat_minor": 2
}
